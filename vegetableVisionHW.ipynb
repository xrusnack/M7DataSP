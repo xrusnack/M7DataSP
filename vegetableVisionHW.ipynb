{
 "cells": [
  {
   "cell_type": "code",
   "execution_count": 88,
   "id": "d4887d77-21ca-4002-afa3-df71072ee187",
   "metadata": {},
   "outputs": [],
   "source": [
    "import torch\n",
    "import pandas as pd\n",
    "import matplotlib.pyplot as plt\n",
    "import seaborn as sns\n",
    "\n",
    "import torch.nn as nn\n",
    "import torch.nn.functional as F\n",
    "import torch.optim as optim"
   ]
  },
  {
   "cell_type": "markdown",
   "id": "d1177115-7809-4195-822c-ef53a6f75e68",
   "metadata": {},
   "source": [
    "## Load dataset"
   ]
  },
  {
   "cell_type": "code",
   "execution_count": 16,
   "id": "9d96ac21-0cc3-41fa-83a9-e613823133cf",
   "metadata": {},
   "outputs": [],
   "source": [
    "%%capture\n",
    "\n",
    "!pip install datasets transformers"
   ]
  },
  {
   "cell_type": "code",
   "execution_count": 98,
   "id": "60dd4b6c-67f7-4ffb-aefc-5a1d6adc6a02",
   "metadata": {},
   "outputs": [
    {
     "data": {
      "application/vnd.jupyter.widget-view+json": {
       "model_id": "032e5a99c7794bdab8d674c56dc278ea",
       "version_major": 2,
       "version_minor": 0
      },
      "text/plain": [
       "Resolving data files:   0%|          | 0/596 [00:00<?, ?it/s]"
      ]
     },
     "metadata": {},
     "output_type": "display_data"
    },
    {
     "data": {
      "application/vnd.jupyter.widget-view+json": {
       "model_id": "9165735978f444989d416c32615ab8b5",
       "version_major": 2,
       "version_minor": 0
      },
      "text/plain": [
       "Resolving data files:   0%|          | 0/95 [00:00<?, ?it/s]"
      ]
     },
     "metadata": {},
     "output_type": "display_data"
    }
   ],
   "source": [
    "from datasets import load_dataset, Image\n",
    "\n",
    "dataset_handle = \"vojtam/vegetables\"\n",
    "dataset = load_dataset(dataset_handle)"
   ]
  },
  {
   "cell_type": "code",
   "execution_count": 99,
   "id": "b5bc6bfa-25a2-4dc6-ba28-fa3fe424a794",
   "metadata": {},
   "outputs": [],
   "source": [
    "dataset = dataset.cast_column(\"image\", Image(mode=\"RGB\"))"
   ]
  },
  {
   "cell_type": "code",
   "execution_count": 100,
   "id": "408b49d8-0027-4f4f-8051-6b295b336f2d",
   "metadata": {},
   "outputs": [],
   "source": [
    "dataset.set_format(type='torch')"
   ]
  },
  {
   "cell_type": "markdown",
   "id": "aae96cc1-81bc-4f6c-ab66-bf01c1b10553",
   "metadata": {},
   "source": [
    "## Rescale dataset"
   ]
  },
  {
   "cell_type": "code",
   "execution_count": 102,
   "id": "369f9da8-f1ac-4b5f-8e8e-b96f2f969098",
   "metadata": {},
   "outputs": [
    {
     "name": "stdout",
     "output_type": "stream",
     "text": [
      "torch.Size([3, 1650, 1100])\n",
      "torch.Size([3, 500, 500])\n",
      "torch.Size([3, 1328, 1160])\n",
      "torch.Size([3, 1306, 1979])\n",
      "torch.Size([3, 1159, 1256])\n",
      "torch.Size([3, 1200, 800])\n",
      "torch.Size([3, 1536, 1024])\n",
      "torch.Size([3, 498, 750])\n",
      "torch.Size([3, 682, 1024])\n",
      "torch.Size([3, 449, 599])\n",
      "torch.Size([3, 836, 1254])\n",
      "torch.Size([3, 1800, 1200])\n",
      "torch.Size([3, 1800, 1200])\n",
      "torch.Size([3, 668, 1024])\n",
      "torch.Size([3, 1366, 2048])\n",
      "torch.Size([3, 900, 1200])\n",
      "torch.Size([3, 401, 602])\n",
      "torch.Size([3, 1024, 1024])\n",
      "torch.Size([3, 2133, 1600])\n",
      "torch.Size([3, 1000, 1500])\n"
     ]
    }
   ],
   "source": [
    "for img in dataset['train']['image'][:20]:\n",
    "    print(img.shape)"
   ]
  },
  {
   "cell_type": "code",
   "execution_count": 103,
   "id": "649c7f6b-2eee-46af-ab30-cc9f5308fefe",
   "metadata": {},
   "outputs": [],
   "source": [
    "from torchvision import transforms\n",
    "\n",
    "transform = transforms.Compose([\n",
    "    transforms.Resize((28, 28)),\n",
    "    transforms.ToTensor(),\n",
    "])\n",
    "\n",
    "def transform_dataset(examples):\n",
    "    examples['image'] = [transform(image) for image in examples['image']]\n",
    "    return examples\n"
   ]
  },
  {
   "cell_type": "code",
   "execution_count": 104,
   "id": "0edd6dc6-e345-495d-bdad-d490038c9ea0",
   "metadata": {},
   "outputs": [],
   "source": [
    "dataset.set_transform(transform_dataset)"
   ]
  },
  {
   "cell_type": "code",
   "execution_count": 105,
   "id": "158400d6-1aa3-4b17-978e-17a431f80497",
   "metadata": {},
   "outputs": [],
   "source": [
    "train_set = dataset['train']\n",
    "test_set = dataset['test']\n",
    "\n",
    "train_loader = torch.utils.data.DataLoader(train_set, batch_size=128, shuffle=True)\n",
    "test_loader = torch.utils.data.DataLoader(test_set, batch_size=128, shuffle=False)"
   ]
  },
  {
   "cell_type": "code",
   "execution_count": 106,
   "id": "b13b9c8d-d7f4-4afd-9778-f07d2827a3c9",
   "metadata": {},
   "outputs": [
    {
     "name": "stdout",
     "output_type": "stream",
     "text": [
      "Using device: cuda\n"
     ]
    }
   ],
   "source": [
    "device = torch.device('cuda' if torch.cuda.is_available() else 'cpu')\n",
    "print(f'Using device: {device}')\n"
   ]
  },
  {
   "cell_type": "code",
   "execution_count": 126,
   "id": "2c88075b-10f4-43b2-9613-6629ec576ea1",
   "metadata": {},
   "outputs": [
    {
     "data": {
      "text/plain": [
       "SimpleCNN(\n",
       "  (conv1): Conv2d(3, 32, kernel_size=(3, 3), stride=(1, 1), padding=(1, 1))\n",
       "  (bn1): BatchNorm2d(32, eps=1e-05, momentum=0.1, affine=True, track_running_stats=True)\n",
       "  (conv2): Conv2d(32, 64, kernel_size=(3, 3), stride=(1, 1), padding=(1, 1))\n",
       "  (bn2): BatchNorm2d(64, eps=1e-05, momentum=0.1, affine=True, track_running_stats=True)\n",
       "  (conv3): Conv2d(64, 128, kernel_size=(3, 3), stride=(1, 1), padding=(1, 1))\n",
       "  (bn3): BatchNorm2d(128, eps=1e-05, momentum=0.1, affine=True, track_running_stats=True)\n",
       "  (pool): MaxPool2d(kernel_size=2, stride=2, padding=0, dilation=1, ceil_mode=False)\n",
       "  (flat): Flatten(start_dim=1, end_dim=-1)\n",
       "  (fc1): Linear(in_features=1152, out_features=512, bias=True)\n",
       "  (drop1): Dropout(p=0.4, inplace=False)\n",
       "  (fc2): Linear(in_features=512, out_features=256, bias=True)\n",
       "  (drop2): Dropout(p=0.3, inplace=False)\n",
       "  (fc3): Linear(in_features=256, out_features=4, bias=True)\n",
       ")"
      ]
     },
     "execution_count": 126,
     "metadata": {},
     "output_type": "execute_result"
    }
   ],
   "source": [
    "class SimpleCNN(nn.Module):\n",
    "    def __init__(self):\n",
    "        super(SimpleCNN, self).__init__()\n",
    "        self.conv1 = nn.Conv2d(in_channels=3, out_channels=32, kernel_size=3, padding=1)\n",
    "        self.bn1 = nn.BatchNorm2d(32)\n",
    "        self.conv2 = nn.Conv2d(in_channels=32, out_channels=64, kernel_size=3, padding=1)\n",
    "        self.bn2 = nn.BatchNorm2d(64)\n",
    "        self.conv3 = nn.Conv2d(in_channels=64, out_channels=128, kernel_size=3, padding=1)\n",
    "        self.bn3 = nn.BatchNorm2d(128)\n",
    "        self.pool = nn.MaxPool2d(2, 2)\n",
    "        self.flat = nn.Flatten()\n",
    "        self.fc1 = nn.Linear(in_features=1152, out_features=512)\n",
    "        self.drop1 = nn.Dropout(0.4)\n",
    "        self.fc2 = nn.Linear(512, 256)\n",
    "        self.drop2 = nn.Dropout(0.3)\n",
    "        self.fc3 = nn.Linear(256, 4)\n",
    "\n",
    "    def forward(self, x):\n",
    "        x = self.pool(F.relu(self.bn1(self.conv1(x))))\n",
    "        x = self.pool(F.relu(self.bn2(self.conv2(x))))\n",
    "        x = self.pool(F.relu(self.bn3(self.conv3(x))))\n",
    "        x = self.flat(x)\n",
    "        x = F.relu(self.fc1(x))\n",
    "        x = self.drop1(x)\n",
    "        x = F.relu(self.fc2(x))\n",
    "        x = self.drop2(x)\n",
    "        x = self.fc3(x)\n",
    "        return x\n",
    "\n",
    "\n",
    "model = SimpleCNN().to(device)\n",
    "model"
   ]
  },
  {
   "cell_type": "code",
   "execution_count": 127,
   "id": "f1178044-b827-4b5f-ae8f-0ad5856973ab",
   "metadata": {},
   "outputs": [],
   "source": [
    "criterion = nn.CrossEntropyLoss()\n",
    "optimizer = optim.AdamW(model.parameters())"
   ]
  },
  {
   "cell_type": "code",
   "execution_count": 137,
   "id": "8da6ee5d-1a3f-41bb-ba50-aebc3d80224f",
   "metadata": {},
   "outputs": [
    {
     "name": "stderr",
     "output_type": "stream",
     "text": [
      "/home/zeus/miniconda3/envs/cloudspace/lib/python3.10/site-packages/PIL/Image.py:1056: UserWarning: Palette images with Transparency expressed in bytes should be converted to RGBA images\n",
      "  warnings.warn(\n"
     ]
    },
    {
     "name": "stdout",
     "output_type": "stream",
     "text": [
      "Epoch [1/5], Loss: 0.0558\n",
      "Epoch [2/5], Loss: 0.0642\n",
      "Epoch [3/5], Loss: 0.0431\n",
      "Epoch [4/5], Loss: 0.0516\n",
      "Epoch [5/5], Loss: 0.0458\n"
     ]
    }
   ],
   "source": [
    "n = 20\n",
    "\n",
    "for epoch in range(n):  # Train for n epochs\n",
    "    running_loss = 0.0\n",
    "    for batch in train_loader:\n",
    "        # Move images and labels to the device\n",
    "        images = batch['image'].to(device)\n",
    "        labels = batch['label'].to(device)\n",
    "\n",
    "        # Zero the parameter gradients\n",
    "        optimizer.zero_grad()\n",
    "\n",
    "        # Forward pass\n",
    "        outputs = model(images)\n",
    "        loss = criterion(outputs, labels)\n",
    "\n",
    "        # Backward pass and optimize\n",
    "        loss.backward()\n",
    "        optimizer.step()\n",
    "\n",
    "        running_loss += loss.item()\n",
    "\n",
    "    print(f'Epoch [{epoch+1}/{n}], Loss: {running_loss / len(train_loader):.4f}')"
   ]
  },
  {
   "cell_type": "markdown",
   "id": "0eb68a16-b923-41ac-bb6d-2991977ca3e0",
   "metadata": {},
   "source": [
    "# Eval"
   ]
  },
  {
   "cell_type": "code",
   "execution_count": 138,
   "id": "c232c89c-7ec4-480c-8eb7-34eadbb434f1",
   "metadata": {},
   "outputs": [
    {
     "name": "stdout",
     "output_type": "stream",
     "text": [
      "Accuracy: 70.53%\n"
     ]
    }
   ],
   "source": [
    "correct = 0\n",
    "total = 0\n",
    "\n",
    "with torch.no_grad():  # Disable gradient calculation for evaluation\n",
    "    for batch in test_loader:\n",
    "        # Move images and labels to the device\n",
    "        images = batch['image'].to(device)\n",
    "        labels = batch['label'].to(device)\n",
    "\n",
    "        outputs = model(images)\n",
    "        _, predicted = torch.max(outputs, 1)\n",
    "        total += labels.size(0)\n",
    "        correct += (predicted == labels).sum().item()\n",
    "\n",
    "print(f'Accuracy: {100 * correct / total:.2f}%')\n"
   ]
  },
  {
   "cell_type": "code",
   "execution_count": 70,
   "id": "894d6705-a3f9-4922-95fb-7fec1e89478f",
   "metadata": {},
   "outputs": [],
   "source": [
    "dataset.set_format(type=\"pandas\")"
   ]
  },
  {
   "cell_type": "code",
   "execution_count": 79,
   "id": "47bf8396-b04c-4bd9-a3cb-2d7dc3817168",
   "metadata": {},
   "outputs": [
    {
     "name": "stderr",
     "output_type": "stream",
     "text": [
      "/home/zeus/miniconda3/envs/cloudspace/lib/python3.10/site-packages/PIL/Image.py:1056: UserWarning: Palette images with Transparency expressed in bytes should be converted to RGBA images\n",
      "  warnings.warn(\n"
     ]
    }
   ],
   "source": [
    "def label_int2str(row):\n",
    "    return dataset['train'].features['label'].int2str(row)\n",
    "\n",
    "df = test_set[:]\n",
    "df['label_name'] = df['label'].apply(label_int2str)"
   ]
  },
  {
   "cell_type": "code",
   "execution_count": 81,
   "id": "6e7034cd-5966-4a8b-8e87-118285bbe01d",
   "metadata": {},
   "outputs": [],
   "source": [
    "df['predicted'] = predicted.to('cpu')"
   ]
  },
  {
   "cell_type": "code",
   "execution_count": 83,
   "id": "0058315f-1066-40e0-9f7d-98c55ba3945a",
   "metadata": {},
   "outputs": [],
   "source": [
    "df['predicted_label'] = df['predicted'].apply(label_int2str)"
   ]
  },
  {
   "cell_type": "code",
   "execution_count": 84,
   "id": "f0685ce9-3e37-41a4-b03b-f65554815b97",
   "metadata": {},
   "outputs": [
    {
     "data": {
      "text/html": [
       "<div>\n",
       "<style scoped>\n",
       "    .dataframe tbody tr th:only-of-type {\n",
       "        vertical-align: middle;\n",
       "    }\n",
       "\n",
       "    .dataframe tbody tr th {\n",
       "        vertical-align: top;\n",
       "    }\n",
       "\n",
       "    .dataframe thead th {\n",
       "        text-align: right;\n",
       "    }\n",
       "</style>\n",
       "<table border=\"1\" class=\"dataframe\">\n",
       "  <thead>\n",
       "    <tr style=\"text-align: right;\">\n",
       "      <th></th>\n",
       "      <th>image</th>\n",
       "      <th>label</th>\n",
       "      <th>label_name</th>\n",
       "      <th>predicted</th>\n",
       "      <th>predicted_label</th>\n",
       "    </tr>\n",
       "  </thead>\n",
       "  <tbody>\n",
       "    <tr>\n",
       "      <th>0</th>\n",
       "      <td>&lt;PIL.JpegImagePlugin.JpegImageFile image mode=...</td>\n",
       "      <td>0</td>\n",
       "      <td>broccoli</td>\n",
       "      <td>1</td>\n",
       "      <td>broccolini</td>\n",
       "    </tr>\n",
       "    <tr>\n",
       "      <th>1</th>\n",
       "      <td>&lt;PIL.JpegImagePlugin.JpegImageFile image mode=...</td>\n",
       "      <td>0</td>\n",
       "      <td>broccoli</td>\n",
       "      <td>1</td>\n",
       "      <td>broccolini</td>\n",
       "    </tr>\n",
       "    <tr>\n",
       "      <th>2</th>\n",
       "      <td>&lt;PIL.WebPImagePlugin.WebPImageFile image mode=...</td>\n",
       "      <td>0</td>\n",
       "      <td>broccoli</td>\n",
       "      <td>2</td>\n",
       "      <td>cauliflower</td>\n",
       "    </tr>\n",
       "    <tr>\n",
       "      <th>3</th>\n",
       "      <td>&lt;PIL.Image.Image image mode=RGB size=2165x2205...</td>\n",
       "      <td>0</td>\n",
       "      <td>broccoli</td>\n",
       "      <td>2</td>\n",
       "      <td>cauliflower</td>\n",
       "    </tr>\n",
       "    <tr>\n",
       "      <th>4</th>\n",
       "      <td>&lt;PIL.JpegImagePlugin.JpegImageFile image mode=...</td>\n",
       "      <td>0</td>\n",
       "      <td>broccoli</td>\n",
       "      <td>1</td>\n",
       "      <td>broccolini</td>\n",
       "    </tr>\n",
       "    <tr>\n",
       "      <th>...</th>\n",
       "      <td>...</td>\n",
       "      <td>...</td>\n",
       "      <td>...</td>\n",
       "      <td>...</td>\n",
       "      <td>...</td>\n",
       "    </tr>\n",
       "    <tr>\n",
       "      <th>90</th>\n",
       "      <td>&lt;PIL.JpegImagePlugin.JpegImageFile image mode=...</td>\n",
       "      <td>3</td>\n",
       "      <td>romanesco</td>\n",
       "      <td>3</td>\n",
       "      <td>romanesco</td>\n",
       "    </tr>\n",
       "    <tr>\n",
       "      <th>91</th>\n",
       "      <td>&lt;PIL.Image.Image image mode=RGB size=1500x1000...</td>\n",
       "      <td>3</td>\n",
       "      <td>romanesco</td>\n",
       "      <td>1</td>\n",
       "      <td>broccolini</td>\n",
       "    </tr>\n",
       "    <tr>\n",
       "      <th>92</th>\n",
       "      <td>&lt;PIL.JpegImagePlugin.JpegImageFile image mode=...</td>\n",
       "      <td>3</td>\n",
       "      <td>romanesco</td>\n",
       "      <td>3</td>\n",
       "      <td>romanesco</td>\n",
       "    </tr>\n",
       "    <tr>\n",
       "      <th>93</th>\n",
       "      <td>&lt;PIL.JpegImagePlugin.JpegImageFile image mode=...</td>\n",
       "      <td>3</td>\n",
       "      <td>romanesco</td>\n",
       "      <td>2</td>\n",
       "      <td>cauliflower</td>\n",
       "    </tr>\n",
       "    <tr>\n",
       "      <th>94</th>\n",
       "      <td>&lt;PIL.JpegImagePlugin.JpegImageFile image mode=...</td>\n",
       "      <td>3</td>\n",
       "      <td>romanesco</td>\n",
       "      <td>3</td>\n",
       "      <td>romanesco</td>\n",
       "    </tr>\n",
       "  </tbody>\n",
       "</table>\n",
       "<p>95 rows × 5 columns</p>\n",
       "</div>"
      ],
      "text/plain": [
       "                                                image  label label_name  \\\n",
       "0   <PIL.JpegImagePlugin.JpegImageFile image mode=...      0   broccoli   \n",
       "1   <PIL.JpegImagePlugin.JpegImageFile image mode=...      0   broccoli   \n",
       "2   <PIL.WebPImagePlugin.WebPImageFile image mode=...      0   broccoli   \n",
       "3   <PIL.Image.Image image mode=RGB size=2165x2205...      0   broccoli   \n",
       "4   <PIL.JpegImagePlugin.JpegImageFile image mode=...      0   broccoli   \n",
       "..                                                ...    ...        ...   \n",
       "90  <PIL.JpegImagePlugin.JpegImageFile image mode=...      3  romanesco   \n",
       "91  <PIL.Image.Image image mode=RGB size=1500x1000...      3  romanesco   \n",
       "92  <PIL.JpegImagePlugin.JpegImageFile image mode=...      3  romanesco   \n",
       "93  <PIL.JpegImagePlugin.JpegImageFile image mode=...      3  romanesco   \n",
       "94  <PIL.JpegImagePlugin.JpegImageFile image mode=...      3  romanesco   \n",
       "\n",
       "    predicted predicted_label  \n",
       "0           1      broccolini  \n",
       "1           1      broccolini  \n",
       "2           2     cauliflower  \n",
       "3           2     cauliflower  \n",
       "4           1      broccolini  \n",
       "..        ...             ...  \n",
       "90          3       romanesco  \n",
       "91          1      broccolini  \n",
       "92          3       romanesco  \n",
       "93          2     cauliflower  \n",
       "94          3       romanesco  \n",
       "\n",
       "[95 rows x 5 columns]"
      ]
     },
     "execution_count": 84,
     "metadata": {},
     "output_type": "execute_result"
    }
   ],
   "source": [
    "df"
   ]
  },
  {
   "cell_type": "code",
   "execution_count": 139,
   "id": "01dd23ce-d53e-402c-b48b-bb9315084bf2",
   "metadata": {},
   "outputs": [],
   "source": [
    "cm = confusion_matrix(labels.to('cpu'), predicted.to('cpu'))\n"
   ]
  },
  {
   "cell_type": "code",
   "execution_count": 140,
   "id": "a728cc4b-ea9e-49ac-986a-d4c98bc4c7d9",
   "metadata": {},
   "outputs": [
    {
     "data": {
      "image/png": "[encoded data removed]",
      "text/plain": [
       "<Figure size 640x480 with 2 Axes>"
      ]
     },
     "metadata": {},
     "output_type": "display_data"
    }
   ],
   "source": [
    "ax= plt.subplot()\n",
    "sns.heatmap(cm, annot=True, fmt='g', ax=ax);  #annot=True to annotate cells, ftm='g' to disable scientific notation\n",
    "\n",
    "# labels, title and ticks\n",
    "ax.set_xlabel('Predicted labels');ax.set_ylabel('True labels'); \n",
    "ax.set_title('Confusion Matrix'); \n",
    "ax.xaxis.set_ticklabels(list(df['label_name'].unique())); ax.yaxis.set_ticklabels(list(df['label_name'].unique()));"
   ]
  },
  {
   "cell_type": "code",
   "execution_count": 92,
   "id": "9ec19080-fb1d-4cb6-81d6-dbcef4d67e75",
   "metadata": {},
   "outputs": [
    {
     "data": {
      "text/plain": [
       "['broccoli', 'broccolini', 'cauliflower', 'romanesco']"
      ]
     },
     "execution_count": 92,
     "metadata": {},
     "output_type": "execute_result"
    }
   ],
   "source": [
    "list(df['label_name'].unique())"
   ]
  },
  {
   "cell_type": "code",
   "execution_count": null,
   "id": "b42c4a27-9074-498a-8a7a-d6c543240260",
   "metadata": {},
   "outputs": [],
   "source": []
  }
 ],
 "metadata": {
  "kernelspec": {
   "display_name": "Python 3",
   "language": "python",
   "name": "python3"
  },
  "language_info": {
   "codemirror_mode": {
    "name": "ipython",
    "version": 3
   },
   "file_extension": ".py",
   "mimetype": "text/x-python",
   "name": "python",
   "nbconvert_exporter": "python",
   "pygments_lexer": "ipython3",
   "version": "3.10.10"
  }
 },
 "nbformat": 4,
 "nbformat_minor": 5
}
