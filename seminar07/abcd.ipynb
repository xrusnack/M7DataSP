{
 "cells": [
  {
   "cell_type": "markdown",
   "metadata": {
    "id": "ATxlcgFXV8S3"
   },
   "source": [
    "# Task 01\n",
    "\n"
   ]
  },
  {
   "cell_type": "code",
   "execution_count": 1,
   "metadata": {
    "colab": {
     "base_uri": "https://localhost:8080/"
    },
    "id": "Or-fIghTy2iR",
    "outputId": "81bb78de-9b65-4753-d021-c77cdca4200d"
   },
   "outputs": [
    {
     "data": {
      "application/vnd.jupyter.widget-view+json": {
       "model_id": "e47671160945454199cbd9681098f7e1",
       "version_major": 2,
       "version_minor": 0
      },
      "text/plain": [
       "Generating train split: 0 examples [00:00, ? examples/s]"
      ]
     },
     "metadata": {},
     "output_type": "display_data"
    },
    {
     "data": {
      "text/plain": [
       "DatasetDict({\n",
       "    train: Dataset({\n",
       "        features: ['Timestamp', 'Question:', 'Option A', 'Option B', 'Option C', 'Option D', 'Correct answer'],\n",
       "        num_rows: 90\n",
       "    })\n",
       "})"
      ]
     },
     "execution_count": 1,
     "metadata": {},
     "output_type": "execute_result"
    }
   ],
   "source": [
    "import torch\n",
    "import transformers\n",
    "\n",
    "from datasets import load_dataset\n",
    "\n",
    "dataset = load_dataset(\"csv\", data_files=\"ABCD.csv\")\n",
    "\n",
    "dataset"
   ]
  },
  {
   "cell_type": "code",
   "execution_count": null,
   "metadata": {},
   "outputs": [],
   "source": [
    "from huggingface_hub import login\n",
    "login(token=\"...\")"
   ]
  },
  {
   "cell_type": "code",
   "execution_count": 3,
   "metadata": {
    "colab": {
     "base_uri": "https://localhost:8080/"
    },
    "id": "TRgk42A3Tn7i",
    "outputId": "eb751524-9714-4381-e06b-7a35fd465d71"
   },
   "outputs": [
    {
     "data": {
      "text/plain": [
       "{'Timestamp': '11/11/2024 11:18:42',\n",
       " 'Question:': 'Jaký máme rok?',\n",
       " 'Option A': '1876',\n",
       " 'Option B': '2014',\n",
       " 'Option C': '2023',\n",
       " 'Option D': '2024',\n",
       " 'Correct answer': 'D'}"
      ]
     },
     "execution_count": 3,
     "metadata": {},
     "output_type": "execute_result"
    }
   ],
   "source": [
    "dataset[\"train\"][0]"
   ]
  },
  {
   "cell_type": "code",
   "execution_count": 4,
   "metadata": {
    "colab": {
     "base_uri": "https://localhost:8080/"
    },
    "id": "IglYyBTYy--Y",
    "outputId": "b72fd8a2-a430-4df1-c8c0-613ba5f710c3"
   },
   "outputs": [
    {
     "name": "stdout",
     "output_type": "stream",
     "text": [
      "Which option A/B/C/D is the best answer for the question. Answer with one letter, no explanation.\n",
      "\n",
      "Question (in Czech): Jaký máme rok?\n",
      "\n",
      "Options:\n",
      "A) 1876\n",
      "B) 2014\n",
      "C) 2023\n",
      "D) 2024\n",
      "\n",
      "Answer (just 1 letter, A/B/C/D):\n"
     ]
    }
   ],
   "source": [
    "def get_prompt(x):\n",
    "    question, options = x[\"Question:\"], (\n",
    "        x[\"Option A\"],\n",
    "        x[\"Option B\"],\n",
    "        x[\"Option C\"],\n",
    "        x[\"Option D\"],\n",
    "    )\n",
    "    text = f\"\"\"Which option A/B/C/D is the best answer for the question. Answer with one letter, no explanation.\n",
    "\n",
    "Question (in Czech): {question}\n",
    "\n",
    "Options:\n",
    "A) {options[0]}\n",
    "B) {options[1]}\n",
    "C) {options[2]}\n",
    "D) {options[3]}\n",
    "\n",
    "Answer (just 1 letter, A/B/C/D):\"\"\"\n",
    "    return text\n",
    "\n",
    "\n",
    "prompts = [get_prompt(x) for x in dataset[\"train\"]]\n",
    "\n",
    "print(prompts[0])"
   ]
  },
  {
   "cell_type": "code",
   "execution_count": 5,
   "metadata": {},
   "outputs": [
    {
     "data": {
      "text/plain": [
       "'Which option A/B/C/D is the best answer for the question. Answer with one letter, no explanation.\\n\\nQuestion (in Czech): Který z následujících kontinentů je největší podle rozlohy?\\n\\nOptions:\\nA) Afrika\\nB) Evropa\\nC) Austrálie\\nD) Asie\\n\\nAnswer (just 1 letter, A/B/C/D):'"
      ]
     },
     "execution_count": 5,
     "metadata": {},
     "output_type": "execute_result"
    }
   ],
   "source": [
    "prompts[2]"
   ]
  },
  {
   "cell_type": "code",
   "execution_count": 25,
   "metadata": {},
   "outputs": [
    {
     "data": {
      "application/vnd.jupyter.widget-view+json": {
       "model_id": "5e8cda6bc7404fb28786d74e6c86d266",
       "version_major": 2,
       "version_minor": 0
      },
      "text/plain": [
       "config.json:   0%|          | 0.00/663 [00:00<?, ?B/s]"
      ]
     },
     "metadata": {},
     "output_type": "display_data"
    },
    {
     "data": {
      "application/vnd.jupyter.widget-view+json": {
       "model_id": "7247ad59c5e94167b623f7af8f490689",
       "version_major": 2,
       "version_minor": 0
      },
      "text/plain": [
       "model.safetensors.index.json:   0%|          | 0.00/27.8k [00:00<?, ?B/s]"
      ]
     },
     "metadata": {},
     "output_type": "display_data"
    },
    {
     "data": {
      "application/vnd.jupyter.widget-view+json": {
       "model_id": "4997e3f703b84bb18ecab9190fcdc362",
       "version_major": 2,
       "version_minor": 0
      },
      "text/plain": [
       "Downloading shards:   0%|          | 0/4 [00:00<?, ?it/s]"
      ]
     },
     "metadata": {},
     "output_type": "display_data"
    },
    {
     "data": {
      "application/vnd.jupyter.widget-view+json": {
       "model_id": "86fbb3cd1501441aae2e16698133c09d",
       "version_major": 2,
       "version_minor": 0
      },
      "text/plain": [
       "model-00001-of-00004.safetensors:   0%|          | 0.00/3.95G [00:00<?, ?B/s]"
      ]
     },
     "metadata": {},
     "output_type": "display_data"
    },
    {
     "data": {
      "application/vnd.jupyter.widget-view+json": {
       "model_id": "37670c2aeffd4ddebd0e0e950e06ef86",
       "version_major": 2,
       "version_minor": 0
      },
      "text/plain": [
       "model-00002-of-00004.safetensors:   0%|          | 0.00/3.86G [00:00<?, ?B/s]"
      ]
     },
     "metadata": {},
     "output_type": "display_data"
    },
    {
     "data": {
      "application/vnd.jupyter.widget-view+json": {
       "model_id": "a2847c55fbcd44cdb8c842cd9ecf1e59",
       "version_major": 2,
       "version_minor": 0
      },
      "text/plain": [
       "model-00003-of-00004.safetensors:   0%|          | 0.00/3.86G [00:00<?, ?B/s]"
      ]
     },
     "metadata": {},
     "output_type": "display_data"
    },
    {
     "data": {
      "application/vnd.jupyter.widget-view+json": {
       "model_id": "d4792b7b86e34422b9a1c98f9f33fd4d",
       "version_major": 2,
       "version_minor": 0
      },
      "text/plain": [
       "model-00004-of-00004.safetensors:   0%|          | 0.00/3.56G [00:00<?, ?B/s]"
      ]
     },
     "metadata": {},
     "output_type": "display_data"
    },
    {
     "data": {
      "application/vnd.jupyter.widget-view+json": {
       "model_id": "c470be0e38ed4366a18afe47e0b0519f",
       "version_major": 2,
       "version_minor": 0
      },
      "text/plain": [
       "Loading checkpoint shards:   0%|          | 0/4 [00:00<?, ?it/s]"
      ]
     },
     "metadata": {},
     "output_type": "display_data"
    },
    {
     "data": {
      "application/vnd.jupyter.widget-view+json": {
       "model_id": "114c8fcbe943493a84d01ced045b20be",
       "version_major": 2,
       "version_minor": 0
      },
      "text/plain": [
       "generation_config.json:   0%|          | 0.00/243 [00:00<?, ?B/s]"
      ]
     },
     "metadata": {},
     "output_type": "display_data"
    },
    {
     "data": {
      "application/vnd.jupyter.widget-view+json": {
       "model_id": "265b4ef3d71141c7be444bd68d3852ff",
       "version_major": 2,
       "version_minor": 0
      },
      "text/plain": [
       "tokenizer_config.json:   0%|          | 0.00/7.30k [00:00<?, ?B/s]"
      ]
     },
     "metadata": {},
     "output_type": "display_data"
    },
    {
     "data": {
      "application/vnd.jupyter.widget-view+json": {
       "model_id": "b47ff1f4eb7b4c698d61836b85d57ddd",
       "version_major": 2,
       "version_minor": 0
      },
      "text/plain": [
       "vocab.json:   0%|          | 0.00/2.78M [00:00<?, ?B/s]"
      ]
     },
     "metadata": {},
     "output_type": "display_data"
    },
    {
     "data": {
      "application/vnd.jupyter.widget-view+json": {
       "model_id": "99e92295fd4f40a3b7cbd702a11c70df",
       "version_major": 2,
       "version_minor": 0
      },
      "text/plain": [
       "merges.txt:   0%|          | 0.00/1.67M [00:00<?, ?B/s]"
      ]
     },
     "metadata": {},
     "output_type": "display_data"
    },
    {
     "data": {
      "application/vnd.jupyter.widget-view+json": {
       "model_id": "027a8a3ec2f24936999893ce0f7ee623",
       "version_major": 2,
       "version_minor": 0
      },
      "text/plain": [
       "tokenizer.json:   0%|          | 0.00/7.03M [00:00<?, ?B/s]"
      ]
     },
     "metadata": {},
     "output_type": "display_data"
    },
    {
     "name": "stderr",
     "output_type": "stream",
     "text": [
      "Hardware accelerator e.g. GPU is available in the environment, but no `device` argument is passed to the `Pipeline` object. Model will be on CPU.\n"
     ]
    }
   ],
   "source": [
    "from transformers import pipeline\n",
    "pipe = pipeline(\"text-generation\", model=\"Qwen/Qwen2.5-7B-Instruct\")\n"
   ]
  },
  {
   "cell_type": "code",
   "execution_count": 26,
   "metadata": {},
   "outputs": [
    {
     "data": {
      "text/plain": [
       "[{'generated_text': [{'role': 'user',\n",
       "    'content': 'Which option A/B/C/D is the best answer for the question. Answer with one letter, no explanation.\\n\\nQuestion (in Czech): Mám tři jablka, ze dvou udělám štrůdl a jedno další koupím. Kolik budu mít jablek?\\n\\nOptions:\\nA) pět\\nB) čtyři\\nC) jedno\\nD) dvě\\n\\nAnswer (just 1 letter, A/B/C/D):'},\n",
       "   {'role': 'assistant', 'content': 'D'}]}]"
      ]
     },
     "execution_count": 26,
     "metadata": {},
     "output_type": "execute_result"
    }
   ],
   "source": [
    "messages = [\n",
    "    {\"role\": \"user\", \"content\": prompts[40]},\n",
    "]\n",
    "\n",
    "response = pipe(\n",
    "    messages,\n",
    "    max_length=150, \n",
    "    do_sample=False,\n",
    "    temperature=0.1, \n",
    "    top_p=0.1, \n",
    "    top_k=1,\n",
    "    num_return_sequences=1,\n",
    "    pad_token_id=pipe.tokenizer.eos_token_id\n",
    ")\n",
    "response"
   ]
  },
  {
   "cell_type": "code",
   "execution_count": 30,
   "metadata": {
    "colab": {
     "base_uri": "https://localhost:8080/",
     "height": 36
    },
    "id": "OBzvxfyO4M3-",
    "outputId": "092cf92b-e347-4022-cf2a-714fdd2b32f6"
   },
   "outputs": [
    {
     "name": "stdout",
     "output_type": "stream",
     "text": [
      "D\n"
     ]
    }
   ],
   "source": [
    "\n",
    "\n",
    "def get_answer(prompt):\n",
    "    messages = [\n",
    "        {\"role\": \"user\", \"content\": prompt},\n",
    "    ]\n",
    "\n",
    "    response = pipe(\n",
    "        messages,\n",
    "        max_length=1000, \n",
    "        do_sample=False,\n",
    "        temperature=0.001, \n",
    "        top_p=0.1, \n",
    "        top_k=1,\n",
    "        num_return_sequences=1,\n",
    "        pad_token_id=pipe.tokenizer.eos_token_id\n",
    "    )\n",
    "    answer = response[0]['generated_text'][-1]['content'].strip().upper()[:1]\n",
    "    print(answer)\n",
    "    return answer\n",
    "\n",
    "answer = get_answer(prompts[40])\n"
   ]
  },
  {
   "cell_type": "code",
   "execution_count": 31,
   "metadata": {
    "colab": {
     "base_uri": "https://localhost:8080/",
     "height": 49,
     "referenced_widgets": [
      "828b2460d6224e05a20c61f609a28e63",
      "0e476df68fc34e84b8203946ffe53dbd",
      "71f23228a9714066991d63efcf9ebf57",
      "ae7d1898459342828bda1d477e41762d",
      "1d16f75935ea4c219e7f55c85a8e244d",
      "c37200a1d2474853aae9fc31fd247291",
      "7016a5c13f9247d2a5817daecf291033",
      "aa0cdbfce13c490494fd097f6bb09341",
      "0a7328175015404382d2bc4eddf474da",
      "132ebc069c774ee8aed2891834c4baa3",
      "cb6d03feefae44c8b1543ff5fbbb1f9d"
     ]
    },
    "id": "DThee-xlzhER",
    "outputId": "1ee2da97-fd58-45d5-aa29-663d45e2dd79"
   },
   "outputs": [
    {
     "data": {
      "application/vnd.jupyter.widget-view+json": {
       "model_id": "2406afc0a1254514bd0cd567763a0eb5",
       "version_major": 2,
       "version_minor": 0
      },
      "text/plain": [
       "  0%|          | 0/90 [00:00<?, ?it/s]"
      ]
     },
     "metadata": {},
     "output_type": "display_data"
    },
    {
     "name": "stdout",
     "output_type": "stream",
     "text": [
      "C\n",
      "A\n",
      "D\n",
      "C\n",
      "B\n",
      "C\n",
      "B\n",
      "A\n",
      "A\n",
      "B\n",
      "D\n",
      "D\n",
      "C\n",
      "B\n",
      "A\n",
      "A\n",
      "B\n",
      "C\n",
      "B\n",
      "C\n",
      "A\n",
      "A\n",
      "A\n",
      "C\n",
      "D\n",
      "C\n",
      "D\n",
      "B\n",
      "D\n",
      "C\n",
      "A\n",
      "B\n",
      "C\n",
      "B\n",
      "A\n",
      "D\n",
      "B\n",
      "D\n",
      "D\n",
      "B\n",
      "D\n",
      "C\n",
      "C\n",
      "C\n",
      "B\n",
      "D\n",
      "A\n",
      "A\n",
      "C\n",
      "C\n",
      "C\n",
      "B\n",
      "A\n",
      "B\n",
      "C\n",
      "A\n",
      "D\n",
      "B\n",
      "B\n",
      "C\n",
      "A\n",
      "A\n",
      "C\n",
      "A\n",
      "A\n",
      "A\n",
      "B\n",
      "C\n",
      "B\n",
      "D\n",
      "A\n",
      "C\n",
      "C\n",
      "B\n",
      "A\n",
      "A\n",
      "A\n",
      "C\n",
      "B\n",
      "C\n",
      "D\n",
      "B\n",
      "B\n",
      "B\n",
      "C\n",
      "A\n",
      "C\n",
      "D\n",
      "B\n",
      "D\n"
     ]
    }
   ],
   "source": [
    "from tqdm.notebook import tqdm\n",
    "\n",
    "answers = []\n",
    "\n",
    "for prompt in tqdm(prompts):\n",
    "    a = get_answer(prompt)\n",
    "    answers.append(a)"
   ]
  },
  {
   "cell_type": "code",
   "execution_count": null,
   "metadata": {},
   "outputs": [],
   "source": []
  },
  {
   "cell_type": "code",
   "execution_count": 32,
   "metadata": {
    "colab": {
     "base_uri": "https://localhost:8080/"
    },
    "id": "TL5w0IrM0GZC",
    "outputId": "72b60e31-1ebc-41bf-e6e7-630a388f4b52"
   },
   "outputs": [
    {
     "data": {
      "text/plain": [
       "0.6444444444444445"
      ]
     },
     "execution_count": 32,
     "metadata": {},
     "output_type": "execute_result"
    }
   ],
   "source": [
    "correct = 0\n",
    "\n",
    "for answer, solution in zip(answers, dataset[\"train\"][\"Correct answer\"]):\n",
    "    if answer == solution:\n",
    "        correct += 1\n",
    "\n",
    "# 80% for GPT3.5 (11 mistakes)\n",
    "# 94% for GPT4 (3 mistakes)\n",
    "correct / len(answers)"
   ]
  },
  {
   "cell_type": "code",
   "execution_count": 35,
   "metadata": {
    "colab": {
     "base_uri": "https://localhost:8080/"
    },
    "id": "2yfrgMLS7QCR",
    "outputId": "c4197dfb-fb9b-4692-91ce-de3058858dca"
   },
   "outputs": [
    {
     "data": {
      "text/plain": [
       "[('C',\n",
       "  \"{'Timestamp': '11/11/2024 11:18:42', 'Question:': 'Jaký máme rok?', 'Option A': '1876', 'Option B': '2014', 'Option C': '2023', 'Option D': '2024', 'Correct answer': 'D'}\"),\n",
       " ('A',\n",
       "  \"{'Timestamp': '11/11/2024 11:19:23', 'Question:': 'Kdo jako první vyřešil Basilejský problém?', 'Option A': 'Jacob Bernoulli', 'Option B': 'Leonard Euler', 'Option C': 'Karl Weierstrass', 'Option D': ' Joseph-Louis Lagrange', 'Correct answer': 'B'}\"),\n",
       " ('C',\n",
       "  \"{'Timestamp': '11/11/2024 11:19:41', 'Question:': 'Jaký je nejstarší ze starověkých 7 divů světa? ', 'Option A': 'Pyramidy v Gize', 'Option B': 'Diova socha v Olympii', 'Option C': 'Rhodsky kolos', 'Option D': 'Visuté zahrady Semiramidiny', 'Correct answer': 'A'}\"),\n",
       " ('B',\n",
       "  \"{'Timestamp': '11/11/2024 11:20:37', 'Question:': 'Kolika let se dožil Bedřich Smetana?', 'Option A': '60', 'Option B': '84', 'Option C': '69', 'Option D': '47', 'Correct answer': 'A'}\")]"
      ]
     },
     "execution_count": 35,
     "metadata": {},
     "output_type": "execute_result"
    }
   ],
   "source": [
    "# List the mistakes\n",
    "wrong_answers = []\n",
    "\n",
    "for answer, x in zip(answers, dataset[\"train\"]):\n",
    "    if answer != x[\"Correct answer\"]:\n",
    "        wrong_answers.append((answer, str(x)))\n",
    "\n",
    "wrong_answers[:4]"
   ]
  },
  {
   "cell_type": "code",
   "execution_count": null,
   "metadata": {
    "id": "brM50gEIVhNo"
   },
   "outputs": [],
   "source": []
  }
 ],
 "metadata": {
  "colab": {
   "authorship_tag": "ABX9TyPIdb35xNh0jpsyijfMsEJU",
   "include_colab_link": true,
   "provenance": []
  },
  "kernelspec": {
   "display_name": "nlp_env",
   "language": "python",
   "name": "python3"
  },
  "language_info": {
   "codemirror_mode": {
    "name": "ipython",
    "version": 3
   },
   "file_extension": ".py",
   "mimetype": "text/x-python",
   "name": "python",
   "nbconvert_exporter": "python",
   "pygments_lexer": "ipython3",
   "version": "3.12.7"
  },
  "widgets": {
   "application/vnd.jupyter.widget-state+json": {
    "0a7328175015404382d2bc4eddf474da": {
     "model_module": "@jupyter-widgets/controls",
     "model_module_version": "1.5.0",
     "model_name": "ProgressStyleModel",
     "state": {
      "_model_module": "@jupyter-widgets/controls",
      "_model_module_version": "1.5.0",
      "_model_name": "ProgressStyleModel",
      "_view_count": null,
      "_view_module": "@jupyter-widgets/base",
      "_view_module_version": "1.2.0",
      "_view_name": "StyleView",
      "bar_color": null,
      "description_width": ""
     }
    },
    "0e476df68fc34e84b8203946ffe53dbd": {
     "model_module": "@jupyter-widgets/controls",
     "model_module_version": "1.5.0",
     "model_name": "HTMLModel",
     "state": {
      "_dom_classes": [],
      "_model_module": "@jupyter-widgets/controls",
      "_model_module_version": "1.5.0",
      "_model_name": "HTMLModel",
      "_view_count": null,
      "_view_module": "@jupyter-widgets/controls",
      "_view_module_version": "1.5.0",
      "_view_name": "HTMLView",
      "description": "",
      "description_tooltip": null,
      "layout": "IPY_MODEL_c37200a1d2474853aae9fc31fd247291",
      "placeholder": "​",
      "style": "IPY_MODEL_7016a5c13f9247d2a5817daecf291033",
      "value": "100%"
     }
    },
    "132ebc069c774ee8aed2891834c4baa3": {
     "model_module": "@jupyter-widgets/base",
     "model_module_version": "1.2.0",
     "model_name": "LayoutModel",
     "state": {
      "_model_module": "@jupyter-widgets/base",
      "_model_module_version": "1.2.0",
      "_model_name": "LayoutModel",
      "_view_count": null,
      "_view_module": "@jupyter-widgets/base",
      "_view_module_version": "1.2.0",
      "_view_name": "LayoutView",
      "align_content": null,
      "align_items": null,
      "align_self": null,
      "border": null,
      "bottom": null,
      "display": null,
      "flex": null,
      "flex_flow": null,
      "grid_area": null,
      "grid_auto_columns": null,
      "grid_auto_flow": null,
      "grid_auto_rows": null,
      "grid_column": null,
      "grid_gap": null,
      "grid_row": null,
      "grid_template_areas": null,
      "grid_template_columns": null,
      "grid_template_rows": null,
      "height": null,
      "justify_content": null,
      "justify_items": null,
      "left": null,
      "margin": null,
      "max_height": null,
      "max_width": null,
      "min_height": null,
      "min_width": null,
      "object_fit": null,
      "object_position": null,
      "order": null,
      "overflow": null,
      "overflow_x": null,
      "overflow_y": null,
      "padding": null,
      "right": null,
      "top": null,
      "visibility": null,
      "width": null
     }
    },
    "1d16f75935ea4c219e7f55c85a8e244d": {
     "model_module": "@jupyter-widgets/base",
     "model_module_version": "1.2.0",
     "model_name": "LayoutModel",
     "state": {
      "_model_module": "@jupyter-widgets/base",
      "_model_module_version": "1.2.0",
      "_model_name": "LayoutModel",
      "_view_count": null,
      "_view_module": "@jupyter-widgets/base",
      "_view_module_version": "1.2.0",
      "_view_name": "LayoutView",
      "align_content": null,
      "align_items": null,
      "align_self": null,
      "border": null,
      "bottom": null,
      "display": null,
      "flex": null,
      "flex_flow": null,
      "grid_area": null,
      "grid_auto_columns": null,
      "grid_auto_flow": null,
      "grid_auto_rows": null,
      "grid_column": null,
      "grid_gap": null,
      "grid_row": null,
      "grid_template_areas": null,
      "grid_template_columns": null,
      "grid_template_rows": null,
      "height": null,
      "justify_content": null,
      "justify_items": null,
      "left": null,
      "margin": null,
      "max_height": null,
      "max_width": null,
      "min_height": null,
      "min_width": null,
      "object_fit": null,
      "object_position": null,
      "order": null,
      "overflow": null,
      "overflow_x": null,
      "overflow_y": null,
      "padding": null,
      "right": null,
      "top": null,
      "visibility": null,
      "width": null
     }
    },
    "7016a5c13f9247d2a5817daecf291033": {
     "model_module": "@jupyter-widgets/controls",
     "model_module_version": "1.5.0",
     "model_name": "DescriptionStyleModel",
     "state": {
      "_model_module": "@jupyter-widgets/controls",
      "_model_module_version": "1.5.0",
      "_model_name": "DescriptionStyleModel",
      "_view_count": null,
      "_view_module": "@jupyter-widgets/base",
      "_view_module_version": "1.2.0",
      "_view_name": "StyleView",
      "description_width": ""
     }
    },
    "71f23228a9714066991d63efcf9ebf57": {
     "model_module": "@jupyter-widgets/controls",
     "model_module_version": "1.5.0",
     "model_name": "FloatProgressModel",
     "state": {
      "_dom_classes": [],
      "_model_module": "@jupyter-widgets/controls",
      "_model_module_version": "1.5.0",
      "_model_name": "FloatProgressModel",
      "_view_count": null,
      "_view_module": "@jupyter-widgets/controls",
      "_view_module_version": "1.5.0",
      "_view_name": "ProgressView",
      "bar_style": "success",
      "description": "",
      "description_tooltip": null,
      "layout": "IPY_MODEL_aa0cdbfce13c490494fd097f6bb09341",
      "max": 50,
      "min": 0,
      "orientation": "horizontal",
      "style": "IPY_MODEL_0a7328175015404382d2bc4eddf474da",
      "value": 50
     }
    },
    "828b2460d6224e05a20c61f609a28e63": {
     "model_module": "@jupyter-widgets/controls",
     "model_module_version": "1.5.0",
     "model_name": "HBoxModel",
     "state": {
      "_dom_classes": [],
      "_model_module": "@jupyter-widgets/controls",
      "_model_module_version": "1.5.0",
      "_model_name": "HBoxModel",
      "_view_count": null,
      "_view_module": "@jupyter-widgets/controls",
      "_view_module_version": "1.5.0",
      "_view_name": "HBoxView",
      "box_style": "",
      "children": [
       "IPY_MODEL_0e476df68fc34e84b8203946ffe53dbd",
       "IPY_MODEL_71f23228a9714066991d63efcf9ebf57",
       "IPY_MODEL_ae7d1898459342828bda1d477e41762d"
      ],
      "layout": "IPY_MODEL_1d16f75935ea4c219e7f55c85a8e244d"
     }
    },
    "aa0cdbfce13c490494fd097f6bb09341": {
     "model_module": "@jupyter-widgets/base",
     "model_module_version": "1.2.0",
     "model_name": "LayoutModel",
     "state": {
      "_model_module": "@jupyter-widgets/base",
      "_model_module_version": "1.2.0",
      "_model_name": "LayoutModel",
      "_view_count": null,
      "_view_module": "@jupyter-widgets/base",
      "_view_module_version": "1.2.0",
      "_view_name": "LayoutView",
      "align_content": null,
      "align_items": null,
      "align_self": null,
      "border": null,
      "bottom": null,
      "display": null,
      "flex": null,
      "flex_flow": null,
      "grid_area": null,
      "grid_auto_columns": null,
      "grid_auto_flow": null,
      "grid_auto_rows": null,
      "grid_column": null,
      "grid_gap": null,
      "grid_row": null,
      "grid_template_areas": null,
      "grid_template_columns": null,
      "grid_template_rows": null,
      "height": null,
      "justify_content": null,
      "justify_items": null,
      "left": null,
      "margin": null,
      "max_height": null,
      "max_width": null,
      "min_height": null,
      "min_width": null,
      "object_fit": null,
      "object_position": null,
      "order": null,
      "overflow": null,
      "overflow_x": null,
      "overflow_y": null,
      "padding": null,
      "right": null,
      "top": null,
      "visibility": null,
      "width": null
     }
    },
    "ae7d1898459342828bda1d477e41762d": {
     "model_module": "@jupyter-widgets/controls",
     "model_module_version": "1.5.0",
     "model_name": "HTMLModel",
     "state": {
      "_dom_classes": [],
      "_model_module": "@jupyter-widgets/controls",
      "_model_module_version": "1.5.0",
      "_model_name": "HTMLModel",
      "_view_count": null,
      "_view_module": "@jupyter-widgets/controls",
      "_view_module_version": "1.5.0",
      "_view_name": "HTMLView",
      "description": "",
      "description_tooltip": null,
      "layout": "IPY_MODEL_132ebc069c774ee8aed2891834c4baa3",
      "placeholder": "​",
      "style": "IPY_MODEL_cb6d03feefae44c8b1543ff5fbbb1f9d",
      "value": " 50/50 [00:24&lt;00:00,  2.05it/s]"
     }
    },
    "c37200a1d2474853aae9fc31fd247291": {
     "model_module": "@jupyter-widgets/base",
     "model_module_version": "1.2.0",
     "model_name": "LayoutModel",
     "state": {
      "_model_module": "@jupyter-widgets/base",
      "_model_module_version": "1.2.0",
      "_model_name": "LayoutModel",
      "_view_count": null,
      "_view_module": "@jupyter-widgets/base",
      "_view_module_version": "1.2.0",
      "_view_name": "LayoutView",
      "align_content": null,
      "align_items": null,
      "align_self": null,
      "border": null,
      "bottom": null,
      "display": null,
      "flex": null,
      "flex_flow": null,
      "grid_area": null,
      "grid_auto_columns": null,
      "grid_auto_flow": null,
      "grid_auto_rows": null,
      "grid_column": null,
      "grid_gap": null,
      "grid_row": null,
      "grid_template_areas": null,
      "grid_template_columns": null,
      "grid_template_rows": null,
      "height": null,
      "justify_content": null,
      "justify_items": null,
      "left": null,
      "margin": null,
      "max_height": null,
      "max_width": null,
      "min_height": null,
      "min_width": null,
      "object_fit": null,
      "object_position": null,
      "order": null,
      "overflow": null,
      "overflow_x": null,
      "overflow_y": null,
      "padding": null,
      "right": null,
      "top": null,
      "visibility": null,
      "width": null
     }
    },
    "cb6d03feefae44c8b1543ff5fbbb1f9d": {
     "model_module": "@jupyter-widgets/controls",
     "model_module_version": "1.5.0",
     "model_name": "DescriptionStyleModel",
     "state": {
      "_model_module": "@jupyter-widgets/controls",
      "_model_module_version": "1.5.0",
      "_model_name": "DescriptionStyleModel",
      "_view_count": null,
      "_view_module": "@jupyter-widgets/base",
      "_view_module_version": "1.2.0",
      "_view_name": "StyleView",
      "description_width": ""
     }
    }
   }
  }
 },
 "nbformat": 4,
 "nbformat_minor": 4
}
